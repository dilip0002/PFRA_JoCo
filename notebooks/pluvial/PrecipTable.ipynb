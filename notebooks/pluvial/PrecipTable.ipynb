{
 "cells": [
  {
   "cell_type": "markdown",
   "metadata": {},
   "source": [
    "# Precipitation Frequency Table\n",
    "\n",
    "__Description__: Auto-retrieve [NOAA Atlas 14](https://hdsc.nws.noaa.gov/hdsc/pfds/pfds_gis.html) precipitation statistics from [FTP](ftp://hdsc.nws.noaa.gov/pub/hdsc/data/) and calcualte the area-averaged precipitation frequency table for the area of interest (AOI). Also calculates the 24-hour rainfall distribution from a set of rainfall data values for 5-minute through 24-hour durations  (see NRCS Engineering Handbook Part 630 https://directives.sc.egov.usda.gov/OpenNonWebContent.aspx?content=43924.wba\n",
    "\n",
    "__Input__: A vector polygon of the AOI and the durations of interest.\n",
    "\n",
    "__Output__: A spreadsheet with sheets for each duration and a sheet with the NOAA Atlas 14 volume and region numbers. For each duration, the sheet contains a table with area-averaged precipitation and confidence limits. A spreadsheet with sheets for each recurrence interval that includes the NRCS nested hyetograph for the 24 hour storm.\n",
    "\n",
    "---"
   ]
  },
  {
   "cell_type": "markdown",
   "metadata": {},
   "source": [
    "## Load Libraries, Parameters, and Data:"
   ]
  },
  {
   "cell_type": "markdown",
   "metadata": {},
   "source": [
    "### Libraries:"
   ]
  },
  {
   "cell_type": "code",
   "execution_count": 1,
   "metadata": {},
   "outputs": [],
   "source": [
    "import sys\n",
    "sys.path.append('../../core')\n",
    "from hydromet import*\n",
    "from hydromet_stratified import precip_hyetograph_nrcs\n",
    "from hydromet_stratified import precip_hyetograph_12h3h"
   ]
  },
  {
   "cell_type": "markdown",
   "metadata": {},
   "source": [
    "### Parameters: "
   ]
  },
  {
   "cell_type": "markdown",
   "metadata": {},
   "source": [
    "#### Papermill (site specific):"
   ]
  },
  {
   "cell_type": "code",
   "execution_count": 2,
   "metadata": {},
   "outputs": [],
   "source": [
    "\n",
    "## Filenames and fields:\n",
    "Project_Area = 'JoCo'          # Project area name\n",
    "Pluvial_Model = 'P01'                # Pluvial model name\n",
    "BCN = 'TurkeyCreek'               # Domain/boundary condition name 071200040505 Kansas 102500170609 Nevada '160600140303'\n",
    "polygon = 'Turkey_Creek.shp'           # Shapefile name\n",
    "filter_field = 'Name'          #HUC12 Attribute with in the vector polygon used for data selection\n",
    "select_data = 'TurkeyCreek'                    # Value within the filter_field used for data selection\n",
    "\n",
    "\n",
    "## Paths:\n",
    "root_dir = pl.Path(os.getcwd())\n",
    "datarepository_dir = root_dir.parent.parent/'DataRepository'\n",
    "polygon_dir = root_dir/'Inputs'/polygon\n",
    "outputs_dir = root_dir/'Outputs'\n",
    "\n",
    "\n",
    "brute_force_projection = None"
   ]
  },
  {
   "cell_type": "markdown",
   "metadata": {},
   "source": [
    "##### Convert all paths to objects:"
   ]
  },
  {
   "cell_type": "code",
   "execution_count": 3,
   "metadata": {},
   "outputs": [],
   "source": [
    "datarepository_dir = pl.Path(datarepository_dir)\n",
    "polygon_dir = pl.Path(polygon_dir)\n",
    "outputs_dir = pl.Path(outputs_dir)"
   ]
  },
  {
   "cell_type": "markdown",
   "metadata": {},
   "source": [
    "#### Global (project specific):"
   ]
  },
  {
   "cell_type": "code",
   "execution_count": 4,
   "metadata": {},
   "outputs": [],
   "source": [
    "noaa_data_crs = 4326 #Based on newer version of GeoPandas\n",
    "\n",
    "durations = ['05m', '10m', '15m', '30m', '60m', '02h', '03h', '06h', '12h', '24h'] \n",
    "dur_names = ['5min', '10min', '15min', '30min', '60min', '2hr', '3hr', '6hr', '12hr', '24hr'] \n",
    "\n",
    "vol_code_filename = 'NOAA_Atlas_Volume_Codes.json'\n",
    "Temporal_area_filename = 'NOAA_Temporal_Areas_US.geojson'\n",
    "\n",
    "verbose = True"
   ]
  },
  {
   "cell_type": "markdown",
   "metadata": {},
   "source": [
    "## Read Vector Polygon:"
   ]
  },
  {
   "cell_type": "markdown",
   "metadata": {},
   "source": [
    "### Load as a geodataframe:"
   ]
  },
  {
   "cell_type": "code",
   "execution_count": 5,
   "metadata": {},
   "outputs": [
    {
     "data": {
      "text/html": [
       "<div>\n",
       "<style scoped>\n",
       "    .dataframe tbody tr th:only-of-type {\n",
       "        vertical-align: middle;\n",
       "    }\n",
       "\n",
       "    .dataframe tbody tr th {\n",
       "        vertical-align: top;\n",
       "    }\n",
       "\n",
       "    .dataframe thead th {\n",
       "        text-align: right;\n",
       "    }\n",
       "</style>\n",
       "<table border=\"1\" class=\"dataframe\">\n",
       "  <thead>\n",
       "    <tr style=\"text-align: right;\">\n",
       "      <th></th>\n",
       "      <th>FID_1</th>\n",
       "      <th>Name</th>\n",
       "      <th>Length</th>\n",
       "      <th>Area</th>\n",
       "      <th>geometry</th>\n",
       "    </tr>\n",
       "  </thead>\n",
       "  <tbody>\n",
       "    <tr>\n",
       "      <th>0</th>\n",
       "      <td>0</td>\n",
       "      <td>TurkeyCreek</td>\n",
       "      <td>142843.007589</td>\n",
       "      <td>6.747305e+08</td>\n",
       "      <td>POLYGON ((2245859.605 244239.413, 2245841.056 ...</td>\n",
       "    </tr>\n",
       "  </tbody>\n",
       "</table>\n",
       "</div>"
      ],
      "text/plain": [
       "   FID_1         Name         Length          Area  \\\n",
       "0      0  TurkeyCreek  142843.007589  6.747305e+08   \n",
       "\n",
       "                                            geometry  \n",
       "0  POLYGON ((2245859.605 244239.413, 2245841.056 ...  "
      ]
     },
     "execution_count": 5,
     "metadata": {},
     "output_type": "execute_result"
    }
   ],
   "source": [
    "gdf = gpd.read_file(polygon_dir)\n",
    "\n",
    "check_attributes(gdf)\n",
    "\n",
    "gdf.head(1)"
   ]
  },
  {
   "cell_type": "markdown",
   "metadata": {},
   "source": [
    "### Determine projection:\n",
    "- If a projection cannot be determined automatically, search for the projection using the EPSG number on the following website: https://www.spatialreference.org/, select 'Proj4', and copy and paste the string above, setting it equal to brute_force_projection. Rerun the cell with the brute_force_projection string and the cell below."
   ]
  },
  {
   "cell_type": "code",
   "execution_count": 6,
   "metadata": {},
   "outputs": [
    {
     "name": "stdout",
     "output_type": "stream",
     "text": [
      "Original Coordinate Reference System: EPSG:3419\n",
      "Vector Layer crs = +proj=lcc +lat_0=38.3333333333333 +lon_0=-98 +lat_1=39.7833333333333 +lat_2=38.7166666666667 +x_0=399999.99998984 +y_0=0 +datum=NAD83 +units=us-ft +no_defs\n"
     ]
    }
   ],
   "source": [
    "print('Original Coordinate Reference System:', gdf.crs)\n",
    "\n",
    "with fiona.collection(polygon_dir, 'r') as layer:\n",
    "    try:\n",
    "        vector_crs_prj = Proj(layer.crs).srs\n",
    "        if 'epsg' in vector_crs_prj: \n",
    "            raise KeyboardInterrupt\n",
    "        else: \n",
    "            print('Vector Layer crs = {}'.format(vector_crs_prj))\n",
    "        \n",
    "    except:\n",
    "        assert brute_force_projection!= None, 'Need to specify projection'\n",
    "        vector_crs_prj = brute_force_projection\n",
    "        print('Error: Setting projection as {}'.format(brute_force_projection))"
   ]
  },
  {
   "cell_type": "markdown",
   "metadata": {},
   "source": [
    "### Extract the area of interest, reproject, and plot:"
   ]
  },
  {
   "cell_type": "code",
   "execution_count": 7,
   "metadata": {},
   "outputs": [
    {
     "data": {
      "image/png": "[encoded data removed]",
      "text/plain": [
       "<Figure size 1000x1400 with 1 Axes>"
      ]
     },
     "metadata": {},
     "output_type": "display_data"
    }
   ],
   "source": [
    "gdf1 = gdf.loc[gdf[filter_field] == select_data].copy()\n",
    "\n",
    "gdf1.crs = vector_crs_prj\n",
    "    \n",
    "geo_df = gdf1.to_crs(epsg = noaa_data_crs)\n",
    "\n",
    "plot_area_of_interest(geo_df, select_data, filter_field)"
   ]
  },
  {
   "cell_type": "markdown",
   "metadata": {},
   "source": [
    "## Identify the NOAA Atlas 14 Volume Code:"
   ]
  },
  {
   "cell_type": "markdown",
   "metadata": {},
   "source": [
    "### Determine the volume and region numbers:"
   ]
  },
  {
   "cell_type": "code",
   "execution_count": 8,
   "metadata": {},
   "outputs": [
    {
     "name": "stdout",
     "output_type": "stream",
     "text": [
      "Volume           8\n",
      "Region           3\n",
      "Percent_area     100.0\n"
     ]
    },
    {
     "data": {
      "image/png": "[encoded data removed]",
      "text/plain": [
       "<Figure size 1000x1400 with 1 Axes>"
      ]
     },
     "metadata": {},
     "output_type": "display_data"
    }
   ],
   "source": [
    "volume_dict, intersection_gdf = intersect_temporal_areas(geo_df, datarepository_dir, Temporal_area_filename, alldata=True)\n",
    "\n",
    "plot_aoi_noaa_intersection(intersection_gdf, select_data)\n",
    "\n",
    "volume = volume_dict['Volume']\n",
    "#volume = '9' # Manually specify the volume if the input shapes do not overlap below"
   ]
  },
  {
   "cell_type": "markdown",
   "metadata": {},
   "source": [
    "### Load Atlas 14 volume code from json:"
   ]
  },
  {
   "cell_type": "code",
   "execution_count": 9,
   "metadata": {},
   "outputs": [
    {
     "name": "stdout",
     "output_type": "stream",
     "text": [
      "NOAA Atlas 14 Volume Code: mw\n"
     ]
    }
   ],
   "source": [
    "vol_code = get_volume_code(datarepository_dir, vol_code_filename, volume)"
   ]
  },
  {
   "cell_type": "markdown",
   "metadata": {},
   "source": [
    "## Retrieve the Precipitation Frequency Data:"
   ]
  },
  {
   "cell_type": "markdown",
   "metadata": {},
   "source": [
    "### Get list of zip files:"
   ]
  },
  {
   "cell_type": "code",
   "execution_count": 10,
   "metadata": {},
   "outputs": [
    {
     "name": "stdout",
     "output_type": "stream",
     "text": [
      "30 files found for 05m\n",
      "30 files found for 10m\n",
      "30 files found for 15m\n",
      "30 files found for 30m\n",
      "30 files found for 60m\n",
      "30 files found for 02h\n",
      "30 files found for 03h\n",
      "30 files found for 06h\n",
      "30 files found for 12h\n",
      "30 files found for 24h\n"
     ]
    }
   ],
   "source": [
    "noaa_url = 'https://hdsc.nws.noaa.gov/pub/hdsc/data/{}/'.format(vol_code)\n",
    "\n",
    "req = urllib.request.Request(noaa_url)\n",
    "data = urllib.request.urlopen(req).read().decode().split()\n",
    "\n",
    "copy_zips = []\n",
    "for duration in durations:\n",
    "    zips = [d for d in data if ('.zip' in d) and ('{}'.format(duration) in d) and ('ams' not in d)]\n",
    "    copy_zips.append(zips)\n",
    "    if verbose: \n",
    "        print('{} files found for {}'.format(len(zips), duration))\n",
    "\n",
    "all_zips_list = list(np.array(copy_zips).flat)\n",
    "\n",
    "for i, zip_name in enumerate(all_zips_list):\n",
    "    all_zips_list[i]= zip_name.split(\"\\\"\", 1)[1].split(\"\\\"\", 1)[0]"
   ]
  },
  {
   "cell_type": "markdown",
   "metadata": {},
   "source": [
    "### Iterate through zip files and build a table:"
   ]
  },
  {
   "cell_type": "code",
   "execution_count": 11,
   "metadata": {
    "scrolled": true
   },
   "outputs": [
    {
     "name": "stdout",
     "output_type": "stream",
     "text": [
      "0 mw1yr05ma.zip\n",
      "1 mw1yr05mal.zip\n",
      "2 mw1yr05mau.zip\n",
      "3 mw2yr05ma.zip\n",
      "4 mw2yr05mal.zip\n",
      "5 mw2yr05mau.zip\n",
      "6 mw5yr05ma.zip\n",
      "7 mw5yr05mal.zip\n",
      "8 mw5yr05mau.zip\n",
      "9 mw10yr05ma.zip\n",
      "10 mw10yr05mal.zip\n",
      "11 mw10yr05mau.zip\n",
      "12 mw25yr05ma.zip\n",
      "13 mw25yr05mal.zip\n",
      "14 mw25yr05mau.zip\n",
      "15 mw50yr05ma.zip\n",
      "16 mw50yr05mal.zip\n",
      "17 mw50yr05mau.zip\n",
      "18 mw100yr05ma.zip\n",
      "19 mw100yr05mal.zip\n",
      "20 mw100yr05mau.zip\n",
      "21 mw200yr05ma.zip\n",
      "22 mw200yr05mal.zip\n",
      "23 mw200yr05mau.zip\n",
      "24 mw500yr05ma.zip\n",
      "25 mw500yr05mal.zip\n",
      "26 mw500yr05mau.zip\n",
      "27 mw1000yr05ma.zip\n",
      "28 mw1000yr05mal.zip\n",
      "29 mw1000yr05mau.zip\n",
      "30 mw1yr10ma.zip\n",
      "31 mw1yr10mal.zip\n",
      "32 mw1yr10mau.zip\n",
      "33 mw2yr10ma.zip\n",
      "34 mw2yr10mal.zip\n",
      "35 mw2yr10mau.zip\n",
      "36 mw5yr10ma.zip\n",
      "37 mw5yr10mal.zip\n",
      "38 mw5yr10mau.zip\n",
      "39 mw10yr10ma.zip\n",
      "40 mw10yr10mal.zip\n",
      "41 mw10yr10mau.zip\n",
      "42 mw25yr10ma.zip\n",
      "43 mw25yr10mal.zip\n",
      "44 mw25yr10mau.zip\n",
      "45 mw50yr10ma.zip\n",
      "46 mw50yr10mal.zip\n",
      "47 mw50yr10mau.zip\n",
      "48 mw100yr10ma.zip\n",
      "49 mw100yr10mal.zip\n",
      "50 mw100yr10mau.zip\n",
      "51 mw200yr10ma.zip\n",
      "52 mw200yr10mal.zip\n",
      "53 mw200yr10mau.zip\n",
      "54 mw500yr10ma.zip\n",
      "55 mw500yr10mal.zip\n",
      "56 mw500yr10mau.zip\n",
      "57 mw1000yr10ma.zip\n",
      "58 mw1000yr10mal.zip\n",
      "59 mw1000yr10mau.zip\n",
      "60 mw1yr15ma.zip\n",
      "61 mw1yr15mal.zip\n",
      "62 mw1yr15mau.zip\n",
      "63 mw2yr15ma.zip\n",
      "64 mw2yr15mal.zip\n",
      "65 mw2yr15mau.zip\n",
      "66 mw5yr15ma.zip\n",
      "67 mw5yr15mal.zip\n",
      "68 mw5yr15mau.zip\n",
      "69 mw10yr15ma.zip\n",
      "70 mw10yr15mal.zip\n",
      "71 mw10yr15mau.zip\n",
      "72 mw25yr15ma.zip\n",
      "73 mw25yr15mal.zip\n",
      "74 mw25yr15mau.zip\n",
      "75 mw50yr15ma.zip\n",
      "76 mw50yr15mal.zip\n",
      "77 mw50yr15mau.zip\n",
      "78 mw100yr15ma.zip\n",
      "79 mw100yr15mal.zip\n",
      "80 mw100yr15mau.zip\n",
      "81 mw200yr15ma.zip\n",
      "82 mw200yr15mal.zip\n",
      "83 mw200yr15mau.zip\n",
      "84 mw500yr15ma.zip\n",
      "85 mw500yr15mal.zip\n",
      "86 mw500yr15mau.zip\n",
      "87 mw1000yr15ma.zip\n",
      "88 mw1000yr15mal.zip\n",
      "89 mw1000yr15mau.zip\n",
      "90 mw1yr30ma.zip\n",
      "91 mw1yr30mal.zip\n",
      "92 mw1yr30mau.zip\n",
      "93 mw2yr30ma.zip\n",
      "94 mw2yr30mal.zip\n",
      "95 mw2yr30mau.zip\n",
      "96 mw5yr30ma.zip\n",
      "97 mw5yr30mal.zip\n",
      "98 mw5yr30mau.zip\n",
      "99 mw10yr30ma.zip\n",
      "100 mw10yr30mal.zip\n",
      "101 mw10yr30mau.zip\n",
      "102 mw25yr30ma.zip\n",
      "103 mw25yr30mal.zip\n",
      "104 mw25yr30mau.zip\n",
      "105 mw50yr30ma.zip\n",
      "106 mw50yr30mal.zip\n",
      "107 mw50yr30mau.zip\n",
      "108 mw100yr30ma.zip\n",
      "109 mw100yr30mal.zip\n",
      "110 mw100yr30mau.zip\n",
      "111 mw200yr30ma.zip\n",
      "112 mw200yr30mal.zip\n",
      "113 mw200yr30mau.zip\n",
      "114 mw500yr30ma.zip\n",
      "115 mw500yr30mal.zip\n",
      "116 mw500yr30mau.zip\n",
      "117 mw1000yr30ma.zip\n",
      "118 mw1000yr30mal.zip\n",
      "119 mw1000yr30mau.zip\n",
      "120 mw1yr60ma.zip\n",
      "121 mw1yr60mal.zip\n",
      "122 mw1yr60mau.zip\n",
      "123 mw2yr60ma.zip\n",
      "124 mw2yr60mal.zip\n",
      "125 mw2yr60mau.zip\n",
      "126 mw5yr60ma.zip\n",
      "127 mw5yr60mal.zip\n",
      "128 mw5yr60mau.zip\n",
      "129 mw10yr60ma.zip\n",
      "130 mw10yr60mal.zip\n",
      "131 mw10yr60mau.zip\n",
      "132 mw25yr60ma.zip\n",
      "133 mw25yr60mal.zip\n",
      "134 mw25yr60mau.zip\n",
      "135 mw50yr60ma.zip\n",
      "136 mw50yr60mal.zip\n",
      "137 mw50yr60mau.zip\n",
      "138 mw100yr60ma.zip\n",
      "139 mw100yr60mal.zip\n",
      "140 mw100yr60mau.zip\n",
      "141 mw200yr60ma.zip\n",
      "142 mw200yr60mal.zip\n",
      "143 mw200yr60mau.zip\n",
      "144 mw500yr60ma.zip\n",
      "145 mw500yr60mal.zip\n",
      "146 mw500yr60mau.zip\n",
      "147 mw1000yr60ma.zip\n",
      "148 mw1000yr60mal.zip\n",
      "149 mw1000yr60mau.zip\n",
      "150 mw1yr02ha.zip\n",
      "151 mw1yr02hal.zip\n",
      "152 mw1yr02hau.zip\n",
      "153 mw2yr02ha.zip\n",
      "154 mw2yr02hal.zip\n",
      "155 mw2yr02hau.zip\n",
      "156 mw5yr02ha.zip\n",
      "157 mw5yr02hal.zip\n",
      "158 mw5yr02hau.zip\n",
      "159 mw10yr02ha.zip\n",
      "160 mw10yr02hal.zip\n",
      "161 mw10yr02hau.zip\n",
      "162 mw25yr02ha.zip\n",
      "163 mw25yr02hal.zip\n",
      "164 mw25yr02hau.zip\n",
      "165 mw50yr02ha.zip\n",
      "166 mw50yr02hal.zip\n",
      "167 mw50yr02hau.zip\n",
      "168 mw100yr02ha.zip\n",
      "169 mw100yr02hal.zip\n",
      "170 mw100yr02hau.zip\n",
      "171 mw200yr02ha.zip\n",
      "172 mw200yr02hal.zip\n",
      "173 mw200yr02hau.zip\n",
      "174 mw500yr02ha.zip\n",
      "175 mw500yr02hal.zip\n",
      "176 mw500yr02hau.zip\n",
      "177 mw1000yr02ha.zip\n",
      "178 mw1000yr02hal.zip\n",
      "179 mw1000yr02hau.zip\n",
      "180 mw1yr03ha.zip\n",
      "181 mw1yr03hal.zip\n",
      "182 mw1yr03hau.zip\n",
      "183 mw2yr03ha.zip\n",
      "184 mw2yr03hal.zip\n",
      "185 mw2yr03hau.zip\n",
      "186 mw5yr03ha.zip\n",
      "187 mw5yr03hal.zip\n",
      "188 mw5yr03hau.zip\n",
      "189 mw10yr03ha.zip\n",
      "190 mw10yr03hal.zip\n",
      "191 mw10yr03hau.zip\n",
      "192 mw25yr03ha.zip\n",
      "193 mw25yr03hal.zip\n",
      "194 mw25yr03hau.zip\n",
      "195 mw50yr03ha.zip\n",
      "196 mw50yr03hal.zip\n",
      "197 mw50yr03hau.zip\n",
      "198 mw100yr03ha.zip\n",
      "199 mw100yr03hal.zip\n",
      "200 mw100yr03hau.zip\n",
      "201 mw200yr03ha.zip\n",
      "202 mw200yr03hal.zip\n",
      "203 mw200yr03hau.zip\n",
      "204 mw500yr03ha.zip\n",
      "205 mw500yr03hal.zip\n",
      "206 mw500yr03hau.zip\n",
      "207 mw1000yr03ha.zip\n",
      "208 mw1000yr03hal.zip\n",
      "209 mw1000yr03hau.zip\n",
      "210 mw1yr06ha.zip\n",
      "211 mw1yr06hal.zip\n",
      "212 mw1yr06hau.zip\n",
      "213 mw2yr06ha.zip\n",
      "214 mw2yr06hal.zip\n",
      "215 mw2yr06hau.zip\n",
      "216 mw5yr06ha.zip\n",
      "217 mw5yr06hal.zip\n",
      "218 mw5yr06hau.zip\n",
      "219 mw10yr06ha.zip\n",
      "220 mw10yr06hal.zip\n",
      "221 mw10yr06hau.zip\n",
      "222 mw25yr06ha.zip\n",
      "223 mw25yr06hal.zip\n",
      "224 mw25yr06hau.zip\n",
      "225 mw50yr06ha.zip\n",
      "226 mw50yr06hal.zip\n",
      "227 mw50yr06hau.zip\n",
      "228 mw100yr06ha.zip\n",
      "229 mw100yr06hal.zip\n",
      "230 mw100yr06hau.zip\n",
      "231 mw200yr06ha.zip\n",
      "232 mw200yr06hal.zip\n",
      "233 mw200yr06hau.zip\n",
      "234 mw500yr06ha.zip\n",
      "235 mw500yr06hal.zip\n",
      "236 mw500yr06hau.zip\n",
      "237 mw1000yr06ha.zip\n",
      "238 mw1000yr06hal.zip\n",
      "239 mw1000yr06hau.zip\n",
      "240 mw1yr12ha.zip\n",
      "241 mw1yr12hal.zip\n",
      "242 mw1yr12hau.zip\n",
      "243 mw2yr12ha.zip\n",
      "244 mw2yr12hal.zip\n",
      "245 mw2yr12hau.zip\n",
      "246 mw5yr12ha.zip\n",
      "247 mw5yr12hal.zip\n",
      "248 mw5yr12hau.zip\n",
      "249 mw10yr12ha.zip\n",
      "250 mw10yr12hal.zip\n",
      "251 mw10yr12hau.zip\n",
      "252 mw25yr12ha.zip\n",
      "253 mw25yr12hal.zip\n",
      "254 mw25yr12hau.zip\n",
      "255 mw50yr12ha.zip\n",
      "256 mw50yr12hal.zip\n",
      "257 mw50yr12hau.zip\n",
      "258 mw100yr12ha.zip\n",
      "259 mw100yr12hal.zip\n",
      "260 mw100yr12hau.zip\n",
      "261 mw200yr12ha.zip\n",
      "262 mw200yr12hal.zip\n",
      "263 mw200yr12hau.zip\n",
      "264 mw500yr12ha.zip\n",
      "265 mw500yr12hal.zip\n",
      "266 mw500yr12hau.zip\n",
      "267 mw1000yr12ha.zip\n",
      "268 mw1000yr12hal.zip\n",
      "269 mw1000yr12hau.zip\n",
      "270 mw1yr24ha.zip\n",
      "271 mw1yr24hal.zip\n",
      "272 mw1yr24hau.zip\n",
      "273 mw2yr24ha.zip\n",
      "274 mw2yr24hal.zip\n",
      "275 mw2yr24hau.zip\n",
      "276 mw5yr24ha.zip\n",
      "277 mw5yr24hal.zip\n",
      "278 mw5yr24hau.zip\n",
      "279 mw10yr24ha.zip\n",
      "280 mw10yr24hal.zip\n",
      "281 mw10yr24hau.zip\n",
      "282 mw25yr24ha.zip\n",
      "283 mw25yr24hal.zip\n",
      "284 mw25yr24hau.zip\n",
      "285 mw50yr24ha.zip\n",
      "286 mw50yr24hal.zip\n",
      "287 mw50yr24hau.zip\n",
      "288 mw100yr24ha.zip\n",
      "289 mw100yr24hal.zip\n",
      "290 mw100yr24hau.zip\n",
      "291 mw200yr24ha.zip\n",
      "292 mw200yr24hal.zip\n",
      "293 mw200yr24hau.zip\n",
      "294 mw500yr24ha.zip\n",
      "295 mw500yr24hal.zip\n",
      "296 mw500yr24hau.zip\n",
      "297 mw1000yr24ha.zip\n",
      "298 mw1000yr24hal.zip\n",
      "299 mw1000yr24hau.zip\n",
      "2950 Seconds\n"
     ]
    },
    {
     "data": {
      "text/html": [
       "<div>\n",
       "<style scoped>\n",
       "    .dataframe tbody tr th:only-of-type {\n",
       "        vertical-align: middle;\n",
       "    }\n",
       "\n",
       "    .dataframe tbody tr th {\n",
       "        vertical-align: top;\n",
       "    }\n",
       "\n",
       "    .dataframe thead th {\n",
       "        text-align: right;\n",
       "    }\n",
       "</style>\n",
       "<table border=\"1\" class=\"dataframe\">\n",
       "  <thead>\n",
       "    <tr style=\"text-align: right;\">\n",
       "      <th></th>\n",
       "      <th>region</th>\n",
       "      <th>TR</th>\n",
       "      <th>duration</th>\n",
       "      <th>statistic</th>\n",
       "      <th>value</th>\n",
       "    </tr>\n",
       "  </thead>\n",
       "  <tbody>\n",
       "    <tr>\n",
       "      <th>0</th>\n",
       "      <td>mw</td>\n",
       "      <td>1</td>\n",
       "      <td>05m</td>\n",
       "      <td>Expected Value</td>\n",
       "      <td>0.400287</td>\n",
       "    </tr>\n",
       "    <tr>\n",
       "      <th>1</th>\n",
       "      <td>mw</td>\n",
       "      <td>1</td>\n",
       "      <td>05m</td>\n",
       "      <td>Lower (90%)</td>\n",
       "      <td>0.318830</td>\n",
       "    </tr>\n",
       "    <tr>\n",
       "      <th>2</th>\n",
       "      <td>mw</td>\n",
       "      <td>1</td>\n",
       "      <td>05m</td>\n",
       "      <td>Upper (90%)</td>\n",
       "      <td>0.509713</td>\n",
       "    </tr>\n",
       "    <tr>\n",
       "      <th>3</th>\n",
       "      <td>mw</td>\n",
       "      <td>2</td>\n",
       "      <td>05m</td>\n",
       "      <td>Expected Value</td>\n",
       "      <td>0.470723</td>\n",
       "    </tr>\n",
       "    <tr>\n",
       "      <th>4</th>\n",
       "      <td>mw</td>\n",
       "      <td>2</td>\n",
       "      <td>05m</td>\n",
       "      <td>Lower (90%)</td>\n",
       "      <td>0.374553</td>\n",
       "    </tr>\n",
       "  </tbody>\n",
       "</table>\n",
       "</div>"
      ],
      "text/plain": [
       "  region TR duration       statistic     value\n",
       "0     mw  1      05m  Expected Value  0.400287\n",
       "1     mw  1      05m     Lower (90%)  0.318830\n",
       "2     mw  1      05m     Upper (90%)  0.509713\n",
       "3     mw  2      05m  Expected Value  0.470723\n",
       "4     mw  2      05m     Lower (90%)  0.374553"
      ]
     },
     "metadata": {},
     "output_type": "display_data"
    },
    {
     "name": "stdout",
     "output_type": "stream",
     "text": [
      "None\n"
     ]
    }
   ],
   "source": [
    "df = build_precip_table(geo_df, all_zips_list, noaa_url, vol_code, 10, verbose) #The integer is the number of times to attempt getting the file from ftp"
   ]
  },
  {
   "cell_type": "markdown",
   "metadata": {},
   "source": [
    "## Save the Results to an Excel Workbook:"
   ]
  },
  {
   "cell_type": "markdown",
   "metadata": {},
   "source": [
    "### Create an outputs directory:"
   ]
  },
  {
   "cell_type": "code",
   "execution_count": 13,
   "metadata": {},
   "outputs": [],
   "source": [
    "if not os.path.isdir(outputs_dir):\n",
    "    os.mkdir(outputs_dir)"
   ]
  },
  {
   "cell_type": "markdown",
   "metadata": {},
   "source": [
    "### Save Precipitation Table:"
   ]
  },
  {
   "cell_type": "code",
   "execution_count": 14,
   "metadata": {
    "scrolled": true
   },
   "outputs": [
    {
     "name": "stdout",
     "output_type": "stream",
     "text": [
      "      Expected Value  Lower (90%)  Upper (90%)\n",
      "Tr                                            \n",
      "1           0.400287     0.318830     0.509713\n",
      "2           0.470723     0.374553     0.599702\n",
      "5           0.589096     0.467245     0.751606\n",
      "10          0.690298     0.544532     0.882777\n",
      "25          0.834064     0.638351     1.090798\n",
      "50          0.948479     0.709372     1.248117\n",
      "100         1.065894     0.771489     1.421989\n",
      "200         1.188170     0.826319     1.608872\n",
      "500         1.354702     0.907415     1.863106\n",
      "1000        1.484340     0.968745     2.055553\n",
      "      Expected Value  Lower (90%)  Upper (90%)\n",
      "Tr                                            \n",
      "1           0.586085     0.466872     0.746372\n",
      "2           0.689234     0.548447     0.878202\n",
      "5           0.862574     0.684181     1.100564\n",
      "10          1.010819     0.797362     1.292713\n",
      "25          1.221319     0.934734     1.597255\n",
      "50          1.388787     1.038766     1.827532\n",
      "100         1.560723     1.129628     2.082277\n",
      "200         1.739809     1.209883     2.355915\n",
      "500         1.983606     1.328702     2.728191\n",
      "1000        2.173479     1.418511     3.009883\n",
      "      Expected Value  Lower (90%)  Upper (90%)\n",
      "Tr                                            \n",
      "1           0.714777     0.569383     0.910234\n",
      "2           0.840543     0.668830     1.070894\n",
      "5           1.051862     0.834351     1.342213\n",
      "10          1.232638     0.972372     1.576479\n",
      "25          1.489436     1.139968     1.947872\n",
      "50          1.693691     1.266777     2.228787\n",
      "100         1.903351     1.377585     2.539319\n",
      "200         2.121787     1.475457     2.873021\n",
      "500         2.419085     1.620287     3.327096\n",
      "1000        2.650585     1.729894     3.670585\n",
      "      Expected Value  Lower (90%)  Upper (90%)\n",
      "Tr                                            \n",
      "1           1.007351     0.802500     1.282926\n",
      "2           1.186372     0.944064     1.511511\n",
      "5           1.488106     1.180277     1.898734\n",
      "10          1.746947     1.377979     2.234181\n",
      "25          2.115681     1.619883     2.768479\n",
      "50          2.409904     1.802830     3.172702\n",
      "100         2.712755     1.963809     3.620606\n",
      "200         3.028830     2.106755     4.102883\n",
      "500         3.460436     2.318277     4.760777\n",
      "1000        3.797191     2.478319     5.258532\n",
      "      Expected Value  Lower (90%)  Upper (90%)\n",
      "Tr                                            \n",
      "1           1.323426     1.054191     1.685319\n",
      "2           1.563011     1.243713     1.991500\n",
      "5           1.971670     1.563787     2.515702\n",
      "10          2.326617     1.835298     2.975596\n",
      "25          2.838755     2.176936     3.723266\n",
      "50          3.252213     2.435394     4.288957\n",
      "100         3.681862     2.667713     4.921851\n",
      "200         4.134319     2.878213     5.608457\n",
      "500         4.758128     3.190149     6.554117\n",
      "1000        5.249383     3.426074     7.269383\n",
      "      Expected Value  Lower (90%)  Upper (90%)\n",
      "Tr                                            \n",
      "1           1.639436     1.314638     2.070968\n",
      "2           1.939596     1.553766     2.451319\n",
      "5           2.455266     1.960404     3.107521\n",
      "10          2.906362     2.307979     3.687191\n",
      "25          3.561840     2.753064     4.641064\n",
      "50          4.094511     3.089691     5.362681\n",
      "100         4.650926     3.396170     6.174777\n",
      "200         5.239777     3.677043     7.059447\n",
      "500         6.055787     4.093223     8.284043\n",
      "1000        6.701543     4.408011     9.210447\n",
      "      Expected Value  Lower (90%)  Upper (90%)\n",
      "Tr                                            \n",
      "1           1.850106     1.489447     2.325947\n",
      "2           2.194521     1.764745     2.760160\n",
      "5           2.789606     2.236074     3.513745\n",
      "10          3.313415     2.641681     4.183596\n",
      "25          4.079319     3.168394     5.296926\n",
      "50          4.705011     3.566851     6.139117\n",
      "100         5.361574     3.933447     7.091319\n",
      "200         6.059085     4.272543     8.132160\n",
      "500         7.029830     4.774915     9.579319\n",
      "1000        7.801021     5.154915    10.674128\n",
      "      Expected Value  Lower (90%)  Upper (90%)\n",
      "Tr                                            \n",
      "1           2.228064     1.805723     2.778170\n",
      "2           2.655266     2.149809     3.312468\n",
      "5           3.394819     2.739660     4.241128\n",
      "10          4.046819     3.248372     5.067957\n",
      "25          5.001479     3.913000     6.445479\n",
      "50          5.782617     4.415755     7.487596\n",
      "100         6.602989     4.880649     8.667128\n",
      "200         7.475489     5.312160     9.957819\n",
      "500         8.691043     5.950138    11.754574\n",
      "1000        9.657521     6.432787    13.113798\n",
      "      Expected Value  Lower (90%)  Upper (90%)\n",
      "Tr                                            \n",
      "1           2.630202     2.146298     3.252532\n",
      "2           3.142936     2.561979     3.888394\n",
      "5           4.024649     3.270277     4.986479\n",
      "10          4.796957     3.877011     5.957798\n",
      "25          5.920426     4.660915     7.559415\n",
      "50          6.834468     5.253830     8.770957\n",
      "100         7.790021     5.798085    10.136085\n",
      "200         8.802117     6.300000    11.624670\n",
      "500        10.205819     7.039649    13.688574\n",
      "1000       11.317564     7.599213    15.249926\n",
      "      Expected Value  Lower (90%)  Upper (90%)\n",
      "Tr                                            \n",
      "1           3.080011     2.530660     3.777021\n",
      "2           3.647787     2.994096     4.475436\n",
      "5           4.622851     3.782447     5.680064\n",
      "10          5.475574     4.456489     6.744309\n",
      "25          6.714521     5.322968     8.497777\n",
      "50          7.721085     5.978511     9.824266\n",
      "100         8.772330     6.577957    11.318436\n",
      "200         9.884660     7.129457    12.947351\n",
      "500        11.425851     7.943915    15.202000\n",
      "1000       12.645340     8.560043    16.907660\n",
      "\n",
      "NOAA_Atlas_MetaData:\n"
     ]
    },
    {
     "data": {
      "text/html": [
       "<div>\n",
       "<style scoped>\n",
       "    .dataframe tbody tr th:only-of-type {\n",
       "        vertical-align: middle;\n",
       "    }\n",
       "\n",
       "    .dataframe tbody tr th {\n",
       "        vertical-align: top;\n",
       "    }\n",
       "\n",
       "    .dataframe thead th {\n",
       "        text-align: right;\n",
       "    }\n",
       "</style>\n",
       "<table border=\"1\" class=\"dataframe\">\n",
       "  <thead>\n",
       "    <tr style=\"text-align: right;\">\n",
       "      <th></th>\n",
       "      <th>Volume</th>\n",
       "      <th>Region</th>\n",
       "      <th>Percent_area</th>\n",
       "    </tr>\n",
       "    <tr>\n",
       "      <th>AOI</th>\n",
       "      <th></th>\n",
       "      <th></th>\n",
       "      <th></th>\n",
       "    </tr>\n",
       "  </thead>\n",
       "  <tbody>\n",
       "    <tr>\n",
       "      <th>Name_TurkeyCreek</th>\n",
       "      <td>8</td>\n",
       "      <td>3</td>\n",
       "      <td>100.0</td>\n",
       "    </tr>\n",
       "  </tbody>\n",
       "</table>\n",
       "</div>"
      ],
      "text/plain": [
       "                 Volume  Region  Percent_area\n",
       "AOI                                          \n",
       "Name_TurkeyCreek      8       3         100.0"
      ]
     },
     "metadata": {},
     "output_type": "display_data"
    }
   ],
   "source": [
    "writer = pd.ExcelWriter(outputs_dir/'{0}_{1}_{2}_PrecipTable.xlsx'.format(Project_Area, Pluvial_Model, BCN))\n",
    "\n",
    "for i, d in enumerate(durations):\n",
    "    table = pd.pivot_table(df[df['duration'] == d], values = 'value', index=['TR'], columns=['statistic'])\n",
    "    table.index.name = 'Tr'\n",
    "    table.columns.name = None\n",
    "    table = table.sort_values(by = ['Expected Value'])\n",
    "    table.to_excel(writer, sheet_name = 'AreaDepths_{}'.format(dur_names[i]))\n",
    "    print(table)\n",
    "\n",
    "metadata = pd.DataFrame.from_dict([volume_dict])\n",
    "metadata['AOI'] = str(filter_field) + '_' + str(select_data)\n",
    "metadata = metadata.set_index('AOI')\n",
    "metadata.to_excel(writer, sheet_name = 'NOAA_Atlas_MetaData')\n",
    "print('\\nNOAA_Atlas_MetaData:')\n",
    "display(metadata)\n",
    "    \n",
    "writer.close()"
   ]
  },
  {
   "cell_type": "markdown",
   "metadata": {},
   "source": [
    "---"
   ]
  },
  {
   "cell_type": "markdown",
   "metadata": {},
   "source": [
    "## Calculate NRCS nested hyetograph function "
   ]
  },
  {
   "cell_type": "code",
   "execution_count": 18,
   "metadata": {},
   "outputs": [],
   "source": [
    "#select events to prepare nested distribution\n",
    "Return_Intervals = np.array(['2', '5', '10', '25', '50', '100', '200', '500', '1000'])  # Return intervals for calculating runoff values.\n"
   ]
  },
  {
   "cell_type": "code",
   "execution_count": 19,
   "metadata": {},
   "outputs": [
    {
     "name": "stderr",
     "output_type": "stream",
     "text": [
      "C:\\Users\\dneupane\\Documents\\PFRA_TurkeyBrush\\pfra_Turkey\\notebooks\\pluvial\\../../core\\hydromet_stratified.py:886: RuntimeWarning: divide by zero encountered in log10\n",
      "  ratio_to_12h.loc[i, 'depth'] = pow(10, (a * np.square(np.log10(ratio_to_12h.loc[i, 'duration'])) + b * np.log10(ratio_to_12h.loc[i, 'duration']) + c))\n",
      "C:\\Users\\dneupane\\Documents\\PFRA_TurkeyBrush\\pfra_Turkey\\notebooks\\pluvial\\../../core\\hydromet_stratified.py:886: RuntimeWarning: divide by zero encountered in log10\n",
      "  ratio_to_12h.loc[i, 'depth'] = pow(10, (a * np.square(np.log10(ratio_to_12h.loc[i, 'duration'])) + b * np.log10(ratio_to_12h.loc[i, 'duration']) + c))\n",
      "C:\\Users\\dneupane\\Documents\\PFRA_TurkeyBrush\\pfra_Turkey\\notebooks\\pluvial\\../../core\\hydromet_stratified.py:886: RuntimeWarning: divide by zero encountered in log10\n",
      "  ratio_to_12h.loc[i, 'depth'] = pow(10, (a * np.square(np.log10(ratio_to_12h.loc[i, 'duration'])) + b * np.log10(ratio_to_12h.loc[i, 'duration']) + c))\n",
      "C:\\Users\\dneupane\\Documents\\PFRA_TurkeyBrush\\pfra_Turkey\\notebooks\\pluvial\\../../core\\hydromet_stratified.py:886: RuntimeWarning: divide by zero encountered in log10\n",
      "  ratio_to_12h.loc[i, 'depth'] = pow(10, (a * np.square(np.log10(ratio_to_12h.loc[i, 'duration'])) + b * np.log10(ratio_to_12h.loc[i, 'duration']) + c))\n",
      "C:\\Users\\dneupane\\Documents\\PFRA_TurkeyBrush\\pfra_Turkey\\notebooks\\pluvial\\../../core\\hydromet_stratified.py:886: RuntimeWarning: divide by zero encountered in log10\n",
      "  ratio_to_12h.loc[i, 'depth'] = pow(10, (a * np.square(np.log10(ratio_to_12h.loc[i, 'duration'])) + b * np.log10(ratio_to_12h.loc[i, 'duration']) + c))\n",
      "C:\\Users\\dneupane\\Documents\\PFRA_TurkeyBrush\\pfra_Turkey\\notebooks\\pluvial\\../../core\\hydromet_stratified.py:886: RuntimeWarning: divide by zero encountered in log10\n",
      "  ratio_to_12h.loc[i, 'depth'] = pow(10, (a * np.square(np.log10(ratio_to_12h.loc[i, 'duration'])) + b * np.log10(ratio_to_12h.loc[i, 'duration']) + c))\n",
      "C:\\Users\\dneupane\\Documents\\PFRA_TurkeyBrush\\pfra_Turkey\\notebooks\\pluvial\\../../core\\hydromet_stratified.py:886: RuntimeWarning: divide by zero encountered in log10\n",
      "  ratio_to_12h.loc[i, 'depth'] = pow(10, (a * np.square(np.log10(ratio_to_12h.loc[i, 'duration'])) + b * np.log10(ratio_to_12h.loc[i, 'duration']) + c))\n",
      "C:\\Users\\dneupane\\Documents\\PFRA_TurkeyBrush\\pfra_Turkey\\notebooks\\pluvial\\../../core\\hydromet_stratified.py:886: RuntimeWarning: divide by zero encountered in log10\n",
      "  ratio_to_12h.loc[i, 'depth'] = pow(10, (a * np.square(np.log10(ratio_to_12h.loc[i, 'duration'])) + b * np.log10(ratio_to_12h.loc[i, 'duration']) + c))\n",
      "C:\\Users\\dneupane\\Documents\\PFRA_TurkeyBrush\\pfra_Turkey\\notebooks\\pluvial\\../../core\\hydromet_stratified.py:886: RuntimeWarning: divide by zero encountered in log10\n",
      "  ratio_to_12h.loc[i, 'depth'] = pow(10, (a * np.square(np.log10(ratio_to_12h.loc[i, 'duration'])) + b * np.log10(ratio_to_12h.loc[i, 'duration']) + c))\n"
     ]
    }
   ],
   "source": [
    "from hydromet_stratified import precip_hyetograph_nrcs\n",
    "c_df = df[df['statistic'] =='Expected Value'].set_index('TR')\n",
    "hyetos = {}\n",
    "for evnt in Return_Intervals:\n",
    "    precip_df = c_df.loc[evnt][['duration', 'value']].set_index('duration')\n",
    "    hyetos[evnt] = precip_hyetograph_12h3h(precip_df)   "
   ]
  },
  {
   "cell_type": "markdown",
   "metadata": {},
   "source": [
    "#### Plot to check behavior of 100 year recurrence interval"
   ]
  },
  {
   "cell_type": "code",
   "execution_count": 20,
   "metadata": {},
   "outputs": [],
   "source": [
    "h100 = hyetos['100'].rename(columns = {'ratio':'Cumulative Distribution','t_step':'Time','slope':'100 year Distribution'}, inplace = False)"
   ]
  },
  {
   "cell_type": "code",
   "execution_count": 21,
   "metadata": {},
   "outputs": [
    {
     "data": {
      "text/plain": [
       "<Axes: xlabel='Time (hours)', ylabel='Precipitation (inches)'>"
      ]
     },
     "execution_count": 21,
     "metadata": {},
     "output_type": "execute_result"
    },
    {
     "data": {
      "image/png": "[encoded data removed]",
      "text/plain": [
       "<Figure size 640x480 with 1 Axes>"
      ]
     },
     "metadata": {},
     "output_type": "display_data"
    },
    {
     "data": {
      "image/png": "[encoded data removed]",
      "text/plain": [
       "<Figure size 640x480 with 1 Axes>"
      ]
     },
     "metadata": {},
     "output_type": "display_data"
    }
   ],
   "source": [
    "p1 = h100.plot('Time','Cumulative Distribution')\n",
    "p1.legend()\n",
    "p1.set_xlabel('Time (hours)', fontsize=14)\n",
    "p1.set_ylabel('% of Total Precipitation', fontsize=14)\n",
    "\n",
    "p2 = h100.plot('Time', '100 year Distribution')\n",
    "p2.legend()\n",
    "p2.set_xlabel('Time (hours)', fontsize=14)\n",
    "p2.set_ylabel('Precipitation (inches)', fontsize=14)\n",
    "\n",
    "p1\n",
    "p2"
   ]
  },
  {
   "cell_type": "markdown",
   "metadata": {},
   "source": [
    "### Save Nested Hyetograph:"
   ]
  },
  {
   "cell_type": "code",
   "execution_count": 22,
   "metadata": {
    "scrolled": true
   },
   "outputs": [
    {
     "name": "stdout",
     "output_type": "stream",
     "text": [
      "         ratio     slope\n",
      "time                    \n",
      "0.0   0.000000  0.000000\n",
      "0.1   0.000006  0.000006\n",
      "0.2   0.001804  0.001798\n",
      "0.3   0.003677  0.001873\n",
      "0.4   0.005630  0.001953\n",
      "...        ...       ...\n",
      "11.6  0.993039  0.001798\n",
      "11.7  0.994814  0.001774\n",
      "11.8  0.996565  0.001751\n",
      "11.9  0.998294  0.001729\n",
      "12.0  1.000000  0.001706\n",
      "\n",
      "[121 rows x 2 columns]\n",
      "         ratio     slope\n",
      "time                    \n",
      "0.0   0.000000  0.000000\n",
      "0.1   0.001307  0.001307\n",
      "0.2   0.003123  0.001816\n",
      "0.3   0.005014  0.001891\n",
      "0.4   0.006986  0.001972\n",
      "...        ...       ...\n",
      "11.6  0.992971  0.001816\n",
      "11.7  0.994762  0.001792\n",
      "11.8  0.996531  0.001769\n",
      "11.9  0.998277  0.001746\n",
      "12.0  1.000000  0.001723\n",
      "\n",
      "[121 rows x 2 columns]\n",
      "         ratio     slope\n",
      "time                    \n",
      "0.0   0.000000  0.000000\n",
      "0.1   0.001983  0.001983\n",
      "0.2   0.003811  0.001828\n",
      "0.3   0.005715  0.001903\n",
      "0.4   0.007699  0.001985\n",
      "...        ...       ...\n",
      "11.6  0.992925  0.001828\n",
      "11.7  0.994728  0.001804\n",
      "11.8  0.996508  0.001780\n",
      "11.9  0.998265  0.001757\n",
      "12.0  1.000000  0.001735\n",
      "\n",
      "[121 rows x 2 columns]\n",
      "         ratio     slope\n",
      "time                    \n",
      "0.0   0.000000  0.000000\n",
      "0.1   0.002555  0.002555\n",
      "0.2   0.004397  0.001842\n",
      "0.3   0.006315  0.001918\n",
      "0.4   0.008315  0.002000\n",
      "...        ...       ...\n",
      "11.6  0.992870  0.001842\n",
      "11.7  0.994688  0.001817\n",
      "11.8  0.996482  0.001794\n",
      "11.9  0.998252  0.001771\n",
      "12.0  1.000000  0.001748\n",
      "\n",
      "[121 rows x 2 columns]\n",
      "         ratio     slope\n",
      "time                    \n",
      "0.0   0.000000  0.000000\n",
      "0.1   0.002826  0.002826\n",
      "0.2   0.004677  0.001851\n",
      "0.3   0.006606  0.001928\n",
      "0.4   0.008616  0.002011\n",
      "...        ...       ...\n",
      "11.6  0.992834  0.001851\n",
      "11.7  0.994660  0.001827\n",
      "11.8  0.996463  0.001803\n",
      "11.9  0.998243  0.001780\n",
      "12.0  1.000000  0.001757\n",
      "\n",
      "[121 rows x 2 columns]\n",
      "         ratio     slope\n",
      "time                    \n",
      "0.0   0.000000  0.000000\n",
      "0.1   0.002995  0.002995\n",
      "0.2   0.004855  0.001860\n",
      "0.3   0.006792  0.001937\n",
      "0.4   0.008812  0.002020\n",
      "...        ...       ...\n",
      "11.6  0.992801  0.001860\n",
      "11.7  0.994636  0.001835\n",
      "11.8  0.996447  0.001811\n",
      "11.9  0.998235  0.001788\n",
      "12.0  1.000000  0.001765\n",
      "\n",
      "[121 rows x 2 columns]\n",
      "         ratio     slope\n",
      "time                    \n",
      "0.0   0.000000  0.000000\n",
      "0.1   0.003097  0.003097\n",
      "0.2   0.004965  0.001868\n",
      "0.3   0.006910  0.001946\n",
      "0.4   0.008939  0.002029\n",
      "...        ...       ...\n",
      "11.6  0.992770  0.001868\n",
      "11.7  0.994613  0.001843\n",
      "11.8  0.996432  0.001819\n",
      "11.9  0.998228  0.001795\n",
      "12.0  1.000000  0.001772\n",
      "\n",
      "[121 rows x 2 columns]\n",
      "         ratio     slope\n",
      "time                    \n",
      "0.0   0.000000  0.000000\n",
      "0.1   0.003154  0.003154\n",
      "0.2   0.005031  0.001878\n",
      "0.3   0.006987  0.001956\n",
      "0.4   0.009027  0.002040\n",
      "...        ...       ...\n",
      "11.6  0.992733  0.001877\n",
      "11.7  0.994586  0.001853\n",
      "11.8  0.996414  0.001828\n",
      "11.9  0.998219  0.001804\n",
      "12.0  1.000000  0.001781\n",
      "\n",
      "[121 rows x 2 columns]\n",
      "         ratio     slope\n",
      "time                    \n",
      "0.0   0.000000  0.000000\n",
      "0.1   0.003157  0.003157\n",
      "0.2   0.005042  0.001884\n",
      "0.3   0.007005  0.001963\n",
      "0.4   0.009052  0.002048\n",
      "...        ...       ...\n",
      "11.6  0.992708  0.001884\n",
      "11.7  0.994567  0.001859\n",
      "11.8  0.996402  0.001835\n",
      "11.9  0.998213  0.001811\n",
      "12.0  1.000000  0.001787\n",
      "\n",
      "[121 rows x 2 columns]\n"
     ]
    }
   ],
   "source": [
    "writer = pd.ExcelWriter(outputs_dir/'{0}_{1}_{2}_nrcs_PrecipTable.xlsx'.format(Project_Area, Pluvial_Model, BCN))\n",
    "\n",
    "for i, d in enumerate(c_df.index.astype(str).tolist()[1:10]):\n",
    "    table = hyetos[d][['ratio', 'slope']]\n",
    "    hyetos[d].to_excel(writer, sheet_name = f'nrcs_hye_{d}')\n",
    "    print(table)\n",
    "writer.close()"
   ]
  },
  {
   "cell_type": "markdown",
   "metadata": {},
   "source": [
    "---"
   ]
  }
 ],
 "metadata": {
  "kernelspec": {
   "display_name": "pfra2clone",
   "language": "python",
   "name": "pfra2clone"
  },
  "language_info": {
   "codemirror_mode": {
    "name": "ipython",
    "version": 3
   },
   "file_extension": ".py",
   "mimetype": "text/x-python",
   "name": "python",
   "nbconvert_exporter": "python",
   "pygments_lexer": "ipython3",
   "version": "3.12.5"
  },
  "nteract": {
   "version": "0.12.3"
  }
 },
 "nbformat": 4,
 "nbformat_minor": 4
}
