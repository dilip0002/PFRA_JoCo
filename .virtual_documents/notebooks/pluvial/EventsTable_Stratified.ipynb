





import sys
sys.path.append('../../core')
from hydromet import*
from hydromet_stratified import*
import hydromet_JSON_to_DSS
import mean_frequency_curve
%matplotlib inline





## Excess rainfall parameters:
CN  = 85  # Curve number, must be an integer
mu  = 0.2  # Intial abstraction ratio parameter
PMP = 31.97  # [inches]; Probable maximum precipitation for the selected duration 
Return_Intervals = np.array([2, 5, 10, 25, 50, 100, 200, 500, 1000, 2000, 3000])  # Return intervals for calculating runoff values.
RI_upper_bound = 3700  # Upper Limit of recurrence interval evaluation, suggest not changing this value
lower_limit = 1 # Lower limit of NOAA Atlas 14 precipitation values
Aerial_Reduction = 1  # Aerial reduction factor
duration = 12  # [hours]; Event duration;  must be a duration in the input Precip_Table file
Time_Extend = 12.0 # Model run time extension beyond the hyetograph (24-hour) period.
hydrology_IDs = [1, 2, 3, 4]  # ID's of the different hydrology scenarios considered. 


## Mean curve parameters:
return_intervals_mc = np.array([1.01, 1.05, 1.11, 1.25, 20, 2000, 5000, 10000, 20000, 50000, 100000, 200000, 1/2E-06, 1/1E-06, 1/5E-07, 1/2E-07, 1/1E-07]) # Additional return intervals for the mean curve inputs
CL = np.array([0.001, 0.005, 0.01, 0.05, 0.1, 0.2, 0.3, 0.4, 0.5, 0.6, 0.7, 0.8, 0.9, 0.95, 0.99, 0.995, 0.999]) # Confidence limits

## Integration parameter:
n_partition = 30  # Define number of partitions of max potential retention distribution; this controls the resolution of the integration of int p(Q|S)p(S) dS

## Filenames and paths:
Project_Area = 'JoCo'          # Project area name
Pluvial_Model = 'P01'                # Pluvial model name
BCN = 'TurkeyCreek'               # Domain/boundary condition name 071200040505 Kansas 102500170609 Nevada '160600140303'

precip_table = '{0}_{1}_{2}_PrecipTable.xlsx'.format(Project_Area, Pluvial_Model, BCN)  # NOAA Data
precip_mean_curve_input_table = f'Mean_Curve_Input_{Project_Area}.csv'
precip_mean_curve_table = f'MeanCurve_{Project_Area}.csv'
CN_Distribution = 'NEH630_Table_10_1.json'
nrcs_precip_table = '{0}_{1}_{2}_nrcs_PrecipTable.xlsx'.format(Project_Area, Pluvial_Model, BCN)  # NRCS Data
atlas14_precip_table = '{0}_{1}_{2}_atlas_temporal_PrecipTable.xlsx'.format(Project_Area, Pluvial_Model, BCN)  # Atlas 14 Temporal Data

root_dir = pl.Path(os.getcwd())
outputs_dir = root_dir/'Outputs'
precip_table_dir = outputs_dir/precip_table
nrcs_precip_table_dir = outputs_dir/nrcs_precip_table   
atlas14_precip_table_dir = outputs_dir/atlas14_precip_table 
precip_mean_curve_input_table_dir = outputs_dir/precip_mean_curve_input_table
precip_mean_curve_table_dir = outputs_dir/precip_mean_curve_table
datarepository_dir = root_dir.parent.parent/'DataRepository'
bin_dir = root_dir.parent.parent/'bin'

## Options:
display_print = False

## Options:
save_dss = False
remove_ind_dur = True                              # Remove individual duration files which are combined at the end of this notebook
run_dur_dic = {'12': 1, '12': 1, '12': 1, '12': 1}  # Run durations in days





outputs_dir = pl.Path(outputs_dir)
precip_table_dir = pl.Path(precip_table_dir)
precip_mean_curve_input_table_dir = pl.Path(precip_mean_curve_input_table_dir)
precip_mean_curve_table_dir = pl.Path(precip_mean_curve_table_dir)
datarepository_dir = pl.Path(datarepository_dir)





raw_precip = get_input_data(precip_table_dir, duration, lower_limit, display_print)
raw_precip.rename(columns = {'Expected Value': 'Median'}, inplace = True)
raw_precip.plot(style=['+-','o-','.--'], logx=True, ylim=(0, raw_precip['Upper (90%)'].max()))
plt.show()
raw_precip.head(2)





## Reduce precipitation by aerial reduction factor:
raw_precip_reduced = raw_precip[raw_precip.select_dtypes(include=['number']).columns]*Aerial_Reduction

## Find GEV parameter values:
df_GEV_parameters_M = GEV_parameters_Fit(raw_precip_reduced, 'Median', PMP)
df_GEV_parameters_U = GEV_parameters_Fit(raw_precip_reduced, 'Upper (90%)', PMP)
df_GEV_parameters_L = GEV_parameters_Fit(raw_precip_reduced, 'Lower (90%)', PMP)
df_GEV_parameters = pd.concat([df_GEV_parameters_M, df_GEV_parameters_L, df_GEV_parameters_U], axis=1)
df_GEV_parameters


raw_precip_reduced





plot_GEV_precip_curves(raw_precip_reduced, df_GEV_parameters, PMP, 'Rainfall')
plt.show()





Return_Intervals_Hydro1 = np.array([10, 25, 50, 100, 500])  # Hydrology 1 Return intervals for calculating runoff values.
GEV_parameters_M = df_GEV_parameters_M.values.transpose()[0]
df_weights_rainfall = weights_Rainfall(Return_Intervals_Hydro1, GEV_parameters_M, PMP, RI_upper_bound, raw_precip_reduced, 'Median', CN, mu)
df_weights_rainfall['Event Weight'].iloc[-2] = df_weights_rainfall['Event Weight'].iloc[-2]+df_weights_rainfall['Event Weight'].iloc[-1] # Add last event weight to the last event listed in the return intervals array
df_weights_rainfall = df_weights_rainfall[:-1].copy() # Drop the last event containing the rainfall amount of to the PMP
df_weights_rainfall





#events and excess precip curves
prep_curves = precip_to_runoff_h1(Return_Intervals_Hydro1,nrcs_precip_table_dir,
                     raw_precip_reduced,df_weights_rainfall,CN)
final_curves = extend_time(prep_curves,Time_Extend,0.1)





## test plot:
t_p = final_curves.plot(figsize=(24, 10))
t_p.legend(title='Hydrology 1 Hyetographs')
t_p.set_xlabel('Time (hours)', fontsize=14)
t_p.set_ylabel('Runoff (inches)', fontsize=14)
t_p.plot();
plt.show()





#formatting
Event_Weights_Hydro = df_weights_rainfall['Event Weight'].apply(lambda x: '%.20f' % x).to_dict()

ID_Hydrology = 1
rename_map = Rename_Final_Events_Precip_Stratified(Event_Weights_Hydro, ID_Hydrology) 
renamed_weights = {}

for k, v in rename_map.items():
    renamed_weights[v] = Event_Weights_Hydro [k]

renamed_weights


renamed_curves = final_curves.rename(columns=rename_map).copy()
renamed_curves.index = renamed_curves.index.to_series().apply(lambda x: '%.1f' % x)
renamed_curves.head(10)


#convert weighting table to pandas dataframe
df_renamed_weights = pd.DataFrame(data = {'Weight':list(renamed_weights.values())}, index = list(renamed_weights.keys())) 
df_renamed_weights 








renamed_curves.to_csv(outputs_dir/'Excess_Rainfall_{0}_Dur{1}_Hydro{2}.csv'.format(BCN, duration,ID_Hydrology))
df_renamed_weights.to_csv(outputs_dir/'Weights_{0}_Dur{1}_Hydro{2}.csv'.format(BCN, duration, ID_Hydrology))


#write events to excel for reference only
writer = pd.ExcelWriter(outputs_dir/'{0}_{1}_{2}_Hydro{3}.xlsx'.format(Project_Area, Pluvial_Model, BCN, ID_Hydrology))

for i, d in enumerate(rename_map.keys()):
    table = renamed_curves[rename_map[d]]
    table.to_excel(writer, sheet_name = 'ras_input_{0}-{1}'.format(d,rename_map[d]))
 
writer.close()








return_interval_Data = return_interval_data(raw_precip_reduced, return_intervals_mc, df_GEV_parameters, PMP)
return_interval_Data





mean_curve_data = mean_curve_input_table(CL, return_interval_Data, PMP, precip_mean_curve_input_table_dir)
mean_curve_data





df = mean_frequency_curve.main(Project_Area, precip_mean_curve_input_table_dir, outputs_dir, data_type = 'P', round_decimals = 6)
plt.show()


df





mean_curve_precip = pd.read_csv(precip_mean_curve_table_dir, index_col=0)
mean_curve_precip['Tr'] = 1.0/mean_curve_precip.index.values
mean_curve_precip.set_index('Tr', inplace = True)
mean_curve_precip.plot(style=['+-', 'o-'], logx=True, ylim=(0, PMP))
mean_curve_precip.head(2)





fit_values_mean_curve_precip = mean_curve_precip[1:20000] # Only fit the value up to about the 20,000 year event
df_GEV_parameters_E = GEV_parameters_Fit(fit_values_mean_curve_precip, 'P_Mean_in', PMP)
GEV_parameters_E = df_GEV_parameters_E.values.transpose()[0]
df_GEV_parameters = pd.concat([df_GEV_parameters, df_GEV_parameters_E], axis=1)
df_GEV_parameters
plt.show()





plot_GEV_precip_curves(mean_curve_precip, df_GEV_parameters_E, PMP, 'Rainfall')
plt.show()





df_weights_rainfall = weights_Rainfall(Return_Intervals, GEV_parameters_E, PMP, RI_upper_bound, mean_curve_precip, 'P_Mean_in', CN, mu)
df_weights_rainfall.head(2)





#events and excess precip curves
hydro_events = df_weights_rainfall.index.to_numpy().tolist()
prep_curves = precip_to_runoff_h2(hydro_events,nrcs_precip_table_dir,df_weights_rainfall,df_weights_rainfall,CN)
final_curves = extend_time(prep_curves,Time_Extend,0.1)


#graph
t_p = final_curves.plot(figsize=(24, 10))
t_p.legend(title='Hydrology 2 Hyetographs')
t_p.set_xlabel('Time (hours)', fontsize=14)
t_p.set_ylabel('Runoff (inches)', fontsize=14)
t_p.plot();
plt.show()





#formatting
Event_Weights_Hydro = df_weights_rainfall['Event Weight'].apply(lambda x: '%.20f' % x).to_dict()

ID_Hydrology = 2
rename_map = Rename_Final_Events_Precip_Stratified(Event_Weights_Hydro, ID_Hydrology) #set naming convention
renamed_weights = {}

for k, v in rename_map.items():
    renamed_weights[v] = Event_Weights_Hydro[k]

renamed_weights


renamed_curves = final_curves.rename(columns=rename_map).copy()
renamed_curves.index = renamed_curves.index.to_series().apply(lambda x: '%.1f' % x)
renamed_curves.head(10)


#convert weighting table to pandas dataframe
df_renamed_weights = pd.DataFrame(data = {'Weight':list(renamed_weights.values())}, index = list(renamed_weights.keys())) 
df_renamed_weights 








renamed_curves.to_csv(outputs_dir/'Excess_Rainfall_{0}_Dur{1}_Hydro{2}.csv'.format(BCN, duration,ID_Hydrology))
df_renamed_weights.to_csv(outputs_dir/'Weights_{0}_Dur{1}_Hydro{2}.csv'.format(BCN, duration, ID_Hydrology))


#write events to excel for reference only
writer = pd.ExcelWriter(outputs_dir/'{0}_{1}_{2}_Hydro{3}.xlsx'.format(Project_Area, Pluvial_Model, BCN, ID_Hydrology))

for i, d in enumerate(rename_map.keys()):
    table = renamed_curves[rename_map[d]]
    table.to_excel(writer, sheet_name = 'ras_input_{0}-{1}'.format(d,rename_map[d]))
 
writer.close()





## NRCS value of wet and dry soil moiture conditions:
arc_data = get_CN_distribution(datarepository_dir, CN_Distribution, CN, display_print)

## Table of wet, dry, and average (or median) soil moisture conditions:
df_CN = prep_cn_table(CN, arc_data)  

## Table of parameters for best fit of beta-type distribution to NRCS estiamted dispersion:
fitted_cn = find_optimal_curve_beta_dist_S(df_CN)
fitted_cn['mu'] = mu

## Distribution parameter values:
S_limit = 1000.0/fitted_cn.iloc[0]['CN Lower Limit']-10.0
alpha = fitted_cn.iloc[0]['alpha']
beta = fitted_cn.iloc[0]['beta']

## Define probability for each partition of the max potential retention distribution:
Delta_P = 1.0/n_partition

## Find the average value over each partition, which is the basis for the runoff distribution:
partition_avg = partition_S_avgs(n_partition, Delta_P, alpha, beta, S_limit)

plot_runoff_maxRetention_distributions(GEV_parameters_E, PMP, fitted_cn)
plt.show()


df_CN


fitted_cn


S_limit, alpha, beta


custom_cycler = cycler('color', ['0.1', '0.25', '0.4', '0.55']) + cycler('lw', [1, 1, 1, 1])
S_limit = 1000.0/fitted_cn.iloc[0]['CN Lower Limit']-10.0
alpha = fitted_cn.iloc[0]['alpha']
beta = fitted_cn.iloc[0]['beta']
mu = fitted_cn.iloc[0]['mu']

_, ax = plt.subplots(1, 2, figsize=(10,4))
ax[0].set_prop_cycle(custom_cycler)

Q = np.linspace(PPF_GEV(1e-100, GEV_parameters_E, PMP), PPF_GEV(0.99, GEV_parameters_E, PMP), 100)
SA = np.linspace(0.1, 3.5, 5)
ax[0].plot(Q, np.transpose([PDF_QlS(Q, S1, mu, GEV_parameters_E, PMP) for S1 in SA]))

ax[0].grid(linestyle='--')
ax[0].set_ylim((0, 1.1))
ax[0].set_xlabel('Runoff, Q [inches]')
ax[0].set_ylabel('$p_Q(Q | S)$') 
ax[0].set_title('Conditional Runoff Distribution')
ax[1].set_prop_cycle(custom_cycler)

S = np.linspace(0.0, S_limit, 100)
ax[1].plot(S, (1.0/S_limit)*stats.beta(alpha, beta).pdf(S/S_limit))

ax[1].grid(linestyle='--')
ax[1].set_xlabel('Max Potential Retention, S [inches]')
ax[1].set_ylabel('$p_S(S)$') 
ax[1].set_title('Max Potential Retention Distribution')
plt.tight_layout()
plt.show()








## Error between the integral approach (based on summation integration) and the actual value:
error_PQ = 1-CDF_Q(PMP, mu, alpha, beta, S_limit, GEV_parameters_E, PMP, partition_avg, Delta_P, 0)

print('\nProbability of zero runoff = {}\nError in calculation of Probabilibity of zero runoff = {}\n'
      'Error, i.e., the difference between 1 and the numerical CDF evaluated at PMP, Error = {}'
      ''.format(P_Qzero(mu, alpha, beta, S_limit, GEV_parameters_E, PMP, error_PQ)[0], P_Qzero(mu, alpha, beta, S_limit, GEV_parameters_E, PMP, error_PQ)[1], error_PQ))





df_runoff, df_GEV_parameters_R = runoff_GEV(mu, GEV_parameters_E, PMP, alpha, beta, S_limit, partition_avg, Delta_P, error_PQ)
GEV_parameters_R = df_GEV_parameters_R.values.transpose()[0]
df_GEV_parameters_R


df_runoff





plot_GEV_precip_curves(df_runoff, pd.concat([df_GEV_parameters_R, df_GEV_parameters_E], axis=1), PMP, 'Depth')
plt.show()





df_weights_runoff = runoff_weights(Return_Intervals, RI_upper_bound, mu, GEV_parameters_R,  GEV_parameters_E, PMP, partition_avg, Delta_P, error_PQ)
df_weights_runoff.head(2)


df_weights_runoff





plot_runoff_distributions_final(GEV_parameters_E, GEV_parameters_R, PMP, fitted_cn, partition_avg, Delta_P, error_PQ)
plt.show()





plot_max_potential_retention_cond_runoff(GEV_parameters_E, PMP, fitted_cn, partition_avg, Delta_P, error_PQ)
plt.show()





df_runoff_SR1 = Scenarios_Avg_S_Median_S(df_weights_runoff, mu, GEV_parameters_E, PMP, partition_avg, Delta_P, alpha, beta, S_limit, error_PQ)
df_runoff_SR1.head(2)


df_runoff_SR1





df_runoff_SR2 = Scenarios_low_and_high_S(df_runoff_SR1, mu, GEV_parameters_E, PMP, partition_avg, Delta_P, alpha, beta, S_limit, error_PQ)
df_runoff_SR2.head(10)


#formatting
hydro_events_orig = list(df_runoff_SR2.index)
relabel_U = [str(hyetograph)+'_U' for hyetograph in hydro_events_orig]
relabel_L = [str(hyetograph)+'_L' for hyetograph in hydro_events_orig]

df_runoff_SR2_U = df_runoff_SR2[['Event Weight', 'Runoff', 'Avg. S (Upper 50%)', 'Rainfall (Upper 50%)']].copy()
df_runoff_SR2_U.rename(columns = {'Avg. S (Upper 50%)': 'Avg. S', 'Rainfall (Upper 50%)': 'Rainfall'}, inplace = True)
df_runoff_SR2_U.index = relabel_U

df_runoff_SR2_L = df_runoff_SR2[['Event Weight', 'Runoff', 'Avg. S (Lower 50%)',  'Rainfall (Lower 50%)']].copy()
df_runoff_SR2_L.rename(columns = {'Avg. S (Lower 50%)': 'Avg. S', 'Rainfall (Lower 50%)': 'Rainfall'}, inplace = True)
df_runoff_SR2_L.index = relabel_L

#df_weights_rainfall = df_runoff_SR2_U.append(df_runoff_SR2_L).sort_values(by=['Runoff'])
df_weights_rainfall = pd.concat([df_runoff_SR2_U, df_runoff_SR2_L]).sort_values(by=['Runoff'])
df_weights_rainfall.head(2)


df_weights_rainfall





#events and excess precip curves
RI_list = np.sort(np.concatenate((df_runoff_SR2.index.to_numpy(), df_runoff_SR2.index.to_numpy())))
prep_curves = precip_to_runoff_h3(RI_list,nrcs_precip_table_dir, df_weights_rainfall,df_weights_rainfall)
final_curves = extend_time(prep_curves,Time_Extend,0.1)


final_curves


## graph
t_p = final_curves.plot(figsize=(24,10))
t_p.legend(title='Hydrology 3 Hyetographs')
t_p.set_xlabel('Time (hours)', fontsize=14)
t_p.set_ylabel('Runoff (inches)',fontsize=14)
t_p.plot();
plt.show()





#formatting
Event_Weights_Hydro = df_weights_rainfall['Event Weight'].apply(lambda x: '%.20f' % x).to_dict()

ID_Hydrology = 3
rename_map = Rename_Final_Events_Precip_Stratified(Event_Weights_Hydro, ID_Hydrology) #set naming convention
renamed_weights = {}

for k, v in rename_map.items():
    renamed_weights[v] = Event_Weights_Hydro [k]

renamed_weights


renamed_curves = final_curves.rename(columns=rename_map).copy()

renamed_curves.index = renamed_curves.index.to_series().apply(lambda x: '%.1f' % x)
renamed_curves.head(10)


## Convert weighting table to pandas dataframe
df_renamed_weights = pd.DataFrame(data = {'Weight': list(renamed_weights.values())}, index = list(renamed_weights.keys())) 
df_renamed_weights.head(2)








renamed_curves.to_csv(outputs_dir/'Excess_Rainfall_{0}_Dur{1}_Hydro{2}.csv'.format(BCN, duration,ID_Hydrology))
df_renamed_weights.to_csv(outputs_dir/'Weights_{0}_Dur{1}_Hydro{2}.csv'.format(BCN, duration, ID_Hydrology))


#write events to excel for reference only
writer = pd.ExcelWriter(outputs_dir/'{0}_{1}_{2}_Hydro{3}.xlsx'.format(Project_Area, Pluvial_Model, BCN, ID_Hydrology))

for i, d in enumerate(rename_map.keys()):
    table = renamed_curves[rename_map[d]]
    table.to_excel(writer, sheet_name = 'ras_input_{0}-{1}'.format(d,rename_map[d]))
 
writer.close()








#events and excess precip curves
RI_list = np.sort(np.concatenate((df_runoff_SR2.index.to_numpy(), df_runoff_SR2.index.to_numpy())))
prep_curves, prep_weights = precip_to_runoff_h4(RI_list,atlas14_precip_table_dir,
                     df_weights_rainfall,df_weights_rainfall)
final_curves = extend_time(prep_curves,Time_Extend,0.5)


final_curves


## graph
t_p = final_curves.plot(figsize=(24,10))
t_p.legend(title='Hydrology 4 Hyetographs',loc='center left', bbox_to_anchor=(1.0, 0.5))
t_p.set_xlabel('Time (hours)', fontsize=14)
t_p.set_ylabel('Runoff (inches)', fontsize=14)
t_p.plot();
plt.show()





Event_Weights_Hydro = prep_weights['Event Weight'].apply(lambda x: '%.20f' % x).to_dict()

ID_Hydrology = 4
rename_map = Rename_Final_Events_Precip_Stratified(Event_Weights_Hydro, ID_Hydrology) #set naming convention
renamed_weights = {}

for k, v in rename_map.items():
    renamed_weights[v] = Event_Weights_Hydro[k]
    
renamed_weights


#formatting
renamed_curves = final_curves.rename(columns=rename_map).copy()
renamed_curves.index = renamed_curves.index.to_series().apply(lambda x: '%.1f' % x)
renamed_curves.head(10)


## Convert weighting table to pandas dataframe
df_renamed_weights = pd.DataFrame(data = {'Weight': list(renamed_weights.values())}, index = list(renamed_weights.keys())) 
df_renamed_weights.head(96)








renamed_curves.to_csv(outputs_dir/'Excess_Rainfall_{0}_Dur{1}_Hydro{2}.csv'.format(BCN, duration,ID_Hydrology))
df_renamed_weights.to_csv(outputs_dir/'Weights_{0}_Dur{1}_Hydro{2}.csv'.format(BCN, duration, ID_Hydrology))


#write events to excel for reference only
writer = pd.ExcelWriter(outputs_dir/'{0}_{1}_{2}_Hydro{3}.xlsx'.format(Project_Area, Pluvial_Model, BCN, ID_Hydrology))

for i, d in enumerate(rename_map.keys()):
    table = renamed_curves[rename_map[d]]
    table.to_excel(writer, sheet_name = 'ras_input_{0}-{1}'.format(d,rename_map[d]))
 
writer.close()








excess_dic = combine_results_stratified('Excess_Rainfall', outputs_dir, BCN, duration, hydrology_IDs, run_dur_dic, remove_ind_dur)

with open(outputs_dir/'{0}_{1}_{2}.json'.format(Project_Area, Pluvial_Model, BCN), 'w') as f:
    json.dump(excess_dic, f)
    
forcing = '{0}_{1}_{2}'.format(Project_Area, Pluvial_Model, BCN)
jsonname = '{0}_{1}_{2}.json'.format(Project_Area, Pluvial_Model, BCN)
hydromet_JSON_to_DSS.main(outputs_dir, outputs_dir, bin_dir, forcing, jsonname, scaling = True, remove_temp_files = True, display_print = True)






weights_dic = combine_results_stratified('Weights',  outputs_dir, BCN, duration, hydrology_IDs, run_dur_dic, remove_ind_dur)

with open(outputs_dir/'{0}_{1}_{2}_Weights.json'.format(Project_Area, Pluvial_Model, BCN), 'w') as f:
    json.dump(weights_dic, f)



