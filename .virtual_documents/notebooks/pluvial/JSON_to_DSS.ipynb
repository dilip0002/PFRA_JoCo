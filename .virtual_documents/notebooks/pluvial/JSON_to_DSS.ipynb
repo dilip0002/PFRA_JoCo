








import sys
sys.path.append('../../core')
from hydromet import*
import hydromet_JSON_to_DSS





## Filenames and paths:
Project_Area = 'Sacramento'   # Project area name
Pluvial_Model = 'P03'         # Pluvial model name

forcing = '{}_{}_Forcing'.format(Project_Area, Pluvial_Model)

root_dir = pl.Path(os.getcwd())
outputs_dir = root_dir/'Outputs'
forcing_dir = outputs_dir/forcing
bin_dir = root_dir.parent.parent/'bin'

## Options:
display_print = True
remove_temp_files = True





hydromet_JSON_to_DSS.main(forcing_dir, outputs_dir, bin_dir, forcing, remove_temp_files = remove_temp_files, display_print = display_print)



