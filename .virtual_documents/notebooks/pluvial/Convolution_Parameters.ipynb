





## Libraries:
import sys
sys.path.append('../../core')
from hydromet import*


## Filenames and paths:
Project_Area = 'Sacramento'   # Project area name
Pluvial_Model = 'P01'         # Pluvial model name
BCN = 'D30'                   # Domain/boundary condition name
duration = 24                 # Duration; [hours]

filename = '{0}_{1}_{2}.json'.format(Project_Area, Pluvial_Model, BCN)
root_dir = pl.Path(os.getcwd())
output_dir = root_dir/'Outputs' # Path of the file to load


## Load data and format:
with open(output_dir/filename) as f:
    EventsTable = json.load(f)
dur = 'H{}'.format(str(duration).zfill(2))
events = pd.DataFrame.from_dict(EventsTable[dur]['BCName'][BCN])
events['hours'] = EventsTable[dur]['time_idx']
events = events.set_index('hours')
events.head(2)





event_of_interest = events.columns[0]
#event_of_interest = 'E2001'

tempEpsilons = [0.5, 1, 2, 3] 

plot_tempEpsilons(events, event_of_interest, tempEpsilons, duration)





event_of_interest2 = events.columns[1]
#event_of_interest2 = 'E2002'

#tempEpsilon = tempEpsilons[0]
tempEpsilon = 2.0

convEpsilon = 133.33  

t_c = plot_convEpsilon(events, event_of_interest, event_of_interest2, duration, tempEpsilon, convEpsilon)





volEpsilon = 67  

t_v = plot_volEpsilon(events, event_of_interest, event_of_interest2, duration, tempEpsilon, volEpsilon)





test = np.round(1 - np.sqrt((t_c-1)**2+(t_v-1)**2), 6)

print('Test statistic:', test)





plot_test_statistic(delta=0.01, vmin=1-np.sqrt(2), vmax=1.0)



